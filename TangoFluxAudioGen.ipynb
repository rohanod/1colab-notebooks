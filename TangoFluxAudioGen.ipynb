{
  "cells": [
    {
      "cell_type": "markdown",
      "metadata": {
        "id": "view-in-github",
        "colab_type": "text"
      },
      "source": [
        "<a href=\"https://colab.research.google.com/github/rohanod/colab-notebooks/blob/main/TangoFluxAudioGen.ipynb\" target=\"_parent\"><img src=\"https://colab.research.google.com/assets/colab-badge.svg\" alt=\"Open In Colab\"/></a>"
      ]
    },
    {
      "cell_type": "code",
      "execution_count": 2,
      "metadata": {
        "id": "Z8skhNF7NKvE",
        "outputId": "f6533f2d-cb9f-4dc0-8dcb-1cbfb970fc6c",
        "colab": {
          "base_uri": "https://localhost:8080/"
        }
      }
      "source": [
        "!pip install git+https://github.com/declare-lab/TangoFlux.git"
      ]
    },
    {
      "cell_type": "code",
      "execution_count": null,
      "metadata": {
        "id": "wnzIBBQeNKvE"
      },
      "outputs": [],
      "source": [
        "import IPython\n",
        "import torchaudio\n",
        "from tangoflux import TangoFluxInference\n",
        "from IPython.display import Audio\n",
        "\n",
        "model = TangoFluxInference(name='declare-lab/TangoFlux')"
      ]
    },
    {
      "cell_type": "code",
      "execution_count": null,
      "metadata": {
        "id": "iscpxrlbNKvE"
      },
      "outputs": [],
      "source": [
        "# @title Generate Audio\n",
        "\n",
        "prompt = 'Hammer slowly hitting the wooden table' # @param {type:\"string\"}\n",
        "duration = 10 # @param {type:\"number\"}\n",
        "steps = 50 # @param {type:\"number\"}\n",
        "\n",
        "audio = model.generate(prompt, steps=steps, duration=duration)\n",
        "\n",
        "Audio(data=audio, rate=44100)"
      ]
    }
  ],
  "metadata": {
    "language_info": {
      "name": "python"
    },
    "colab": {
      "provenance": [],
      "include_colab_link": true
    },
    "kernelspec": {
      "name": "python3",
      "display_name": "Python 3"
    }
  },
  "nbformat": 4,
  "nbformat_minor": 0
}
